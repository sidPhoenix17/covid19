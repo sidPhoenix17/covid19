{
 "cells": [
  {
   "cell_type": "code",
   "execution_count": 9,
   "metadata": {},
   "outputs": [],
   "source": [
    "import pandas as pd\n",
    "import geopandas as gpd\n",
    "import numpy as np\n",
    "from shapely.geometry import Point\n",
    "\n",
    "from apiclient.http import MediaIoBaseDownload\n",
    "from apiclient.http import MediaFileUpload\n",
    "from apiclient import discovery\n",
    "from oauth2client import client\n",
    "from oauth2client import tools\n",
    "from oauth2client.file import Storage \n",
    "from httplib2 import Http\n",
    "\n",
    "dist_mat = {'Car':3,'Bike':2,'Self':0.5,'None':0}\n",
    "default_r=0.5\n",
    "\n",
    "#Approximation\n",
    "lat_deg_to_km = 95.0\n",
    "lon_deg_to_km = 110.0\n",
    "buffer_radius = 1/np.sqrt(95*95+110*110)\n"
   ]
  },
  {
   "cell_type": "code",
   "execution_count": 17,
   "metadata": {},
   "outputs": [],
   "source": [
    "#TODO:\n",
    "# Google API integration - extract data from spreadsheet\n",
    "# Push to website (hosted on BlueHost) automatically\n",
    "# Run the script Online in a cron format\n",
    "# Secure storage of file without exposure to blog"
   ]
  },
  {
   "cell_type": "code",
   "execution_count": null,
   "metadata": {},
   "outputs": [],
   "source": []
  },
  {
   "cell_type": "code",
   "execution_count": null,
   "metadata": {
    "scrolled": true
   },
   "outputs": [],
   "source": [
    "\n",
    "# SCOPES = 'https://www.googleapis.com/auth/drive'\n",
    "\n",
    "# # code_for_creds1='4/xwHNl1emTmngXl5vyUC9wcfW8jhkrkmHvEjjr9L6J9HmRN2Act76nNE'\n",
    "# # code_for_creds = '4/xwHKBmudjPw8UAzi4_r_pmcLcn8iEMk9hk8xTlq1dCUC6EMhVmBjsL8'\n",
    "# store = Storage('support_files/token.json')\n",
    "# creds = store.get()\n",
    "\n",
    "# if not creds or creds.invalid:\n",
    "#     flow = client.flow_from_clientsecrets('support_files/credentials1.json', SCOPES)\n",
    "#     creds = tools.run_flow(flow, store)\n",
    "# service = discovery.build('drive', 'v3', http=creds.authorize(Http()))\n"
   ]
  },
  {
   "cell_type": "code",
   "execution_count": 36,
   "metadata": {},
   "outputs": [
    {
     "name": "stderr",
     "output_type": "stream",
     "text": [
      "C:\\Users\\sid\\anaconda3\\envs\\project_covid19\\lib\\site-packages\\ipykernel_launcher.py:3: FutureWarning:     You are passing non-geometry data to the GeoSeries constructor. Currently,\n",
      "    it falls back to returning a pandas Series. But in the future, we will start\n",
      "    to raise a TypeError instead.\n",
      "  This is separate from the ipykernel package so we can avoid doing imports until\n",
      "C:\\Users\\sid\\anaconda3\\envs\\project_covid19\\lib\\site-packages\\ipykernel_launcher.py:4: FutureWarning:     You are passing non-geometry data to the GeoSeries constructor. Currently,\n",
      "    it falls back to returning a pandas Series. But in the future, we will start\n",
      "    to raise a TypeError instead.\n",
      "  after removing the cwd from sys.path.\n",
      "C:\\Users\\sid\\anaconda3\\envs\\project_covid19\\lib\\site-packages\\ipykernel_launcher.py:5: FutureWarning:     You are passing non-geometry data to the GeoSeries constructor. Currently,\n",
      "    it falls back to returning a pandas Series. But in the future, we will start\n",
      "    to raise a TypeError instead.\n",
      "  \"\"\"\n"
     ]
    }
   ],
   "source": [
    "\n",
    "# Sample Data\n",
    "volunteer_df = gpd.GeoDataFrame()\n",
    "volunteer_df = volunteer_df.append(gpd.GeoSeries({'name':'Sid','address':'Cubbon Road, Bangalore','Contact Detail':'9582148040','availability':'OnCall','Lat':'12.9787769','Lon':'77.60355','Transportation':'Car'}),ignore_index=True)\n",
    "volunteer_df = volunteer_df.append(gpd.GeoSeries({'name':'Suyash','address':'Shadowfax Koramangala','Contact Detail':'9582148040','availability':'OnCall','Lat':'12.9335438','Lon':'77.6120867','Transportation':'Self'}),ignore_index=True)\n",
    "volunteer_df = volunteer_df.append(gpd.GeoSeries({'name':'Praanshu','address':'Springfield Apartments','Contact Detail':'9582148040','availability':'Emergency','Lat':'12.9181948','Lon':'77.6673288','Transportation':'None'}),ignore_index=True)\n",
    "volunteer_df['Lat']=volunteer_df['Lat'].astype(float)\n",
    "volunteer_df['Lon']=volunteer_df['Lon'].astype(float)\n",
    "#input_data['radius']=input_data['Transportation'].map(dist_mat)\n",
    "volunteer_df['radius']=default_r\n",
    "\n",
    "geometry = volunteer_df.apply(lambda x: Point(x['Lon'],x['Lat']).buffer(buffer_radius*x.radius),axis=1)\n",
    "#input_data = input_data.drop(['Lon', 'Lat'], axis=1)\n",
    "crs = {'init': 'epsg:4326'}\n",
    "v_df = gpd.GeoDataFrame(volunteer_df, crs=crs, geometry=geometry)"
   ]
  },
  {
   "cell_type": "code",
   "execution_count": 50,
   "metadata": {},
   "outputs": [
    {
     "data": {
      "text/html": [
       "<div>\n",
       "<style scoped>\n",
       "    .dataframe tbody tr th:only-of-type {\n",
       "        vertical-align: middle;\n",
       "    }\n",
       "\n",
       "    .dataframe tbody tr th {\n",
       "        vertical-align: top;\n",
       "    }\n",
       "\n",
       "    .dataframe thead th {\n",
       "        text-align: right;\n",
       "    }\n",
       "</style>\n",
       "<table border=\"1\" class=\"dataframe\">\n",
       "  <thead>\n",
       "    <tr style=\"text-align: right;\">\n",
       "      <th></th>\n",
       "      <th>Contact Detail</th>\n",
       "      <th>Lat</th>\n",
       "      <th>Lon</th>\n",
       "      <th>Transportation</th>\n",
       "      <th>address</th>\n",
       "      <th>availability</th>\n",
       "      <th>name</th>\n",
       "      <th>radius</th>\n",
       "      <th>geometry</th>\n",
       "    </tr>\n",
       "  </thead>\n",
       "  <tbody>\n",
       "    <tr>\n",
       "      <th>0</th>\n",
       "      <td>9582148040</td>\n",
       "      <td>12.978777</td>\n",
       "      <td>77.603550</td>\n",
       "      <td>Car</td>\n",
       "      <td>Cubbon Road, Bangalore</td>\n",
       "      <td>OnCall</td>\n",
       "      <td>Sid</td>\n",
       "      <td>0.5</td>\n",
       "      <td>POLYGON ((77.60699 12.97878, 77.60697 12.97844...</td>\n",
       "    </tr>\n",
       "    <tr>\n",
       "      <th>1</th>\n",
       "      <td>9582148040</td>\n",
       "      <td>12.933544</td>\n",
       "      <td>77.612087</td>\n",
       "      <td>Self</td>\n",
       "      <td>Shadowfax Koramangala</td>\n",
       "      <td>OnCall</td>\n",
       "      <td>Suyash</td>\n",
       "      <td>0.5</td>\n",
       "      <td>POLYGON ((77.61553 12.93354, 77.61551 12.93321...</td>\n",
       "    </tr>\n",
       "    <tr>\n",
       "      <th>2</th>\n",
       "      <td>9582148040</td>\n",
       "      <td>12.918195</td>\n",
       "      <td>77.667329</td>\n",
       "      <td>None</td>\n",
       "      <td>Springfield Apartments</td>\n",
       "      <td>Emergency</td>\n",
       "      <td>Praanshu</td>\n",
       "      <td>0.5</td>\n",
       "      <td>POLYGON ((77.67077 12.91819, 77.67075 12.91786...</td>\n",
       "    </tr>\n",
       "  </tbody>\n",
       "</table>\n",
       "</div>"
      ],
      "text/plain": [
       "  Contact Detail        Lat        Lon Transportation                 address  \\\n",
       "0     9582148040  12.978777  77.603550            Car  Cubbon Road, Bangalore   \n",
       "1     9582148040  12.933544  77.612087           Self   Shadowfax Koramangala   \n",
       "2     9582148040  12.918195  77.667329           None  Springfield Apartments   \n",
       "\n",
       "  availability      name  radius  \\\n",
       "0       OnCall       Sid     0.5   \n",
       "1       OnCall    Suyash     0.5   \n",
       "2    Emergency  Praanshu     0.5   \n",
       "\n",
       "                                            geometry  \n",
       "0  POLYGON ((77.60699 12.97878, 77.60697 12.97844...  \n",
       "1  POLYGON ((77.61553 12.93354, 77.61551 12.93321...  \n",
       "2  POLYGON ((77.67077 12.91819, 77.67075 12.91786...  "
      ]
     },
     "execution_count": 50,
     "metadata": {},
     "output_type": "execute_result"
    }
   ],
   "source": [
    "volunteer_df"
   ]
  },
  {
   "cell_type": "code",
   "execution_count": 37,
   "metadata": {},
   "outputs": [
    {
     "name": "stderr",
     "output_type": "stream",
     "text": [
      "C:\\Users\\sid\\anaconda3\\envs\\project_covid19\\lib\\site-packages\\ipykernel_launcher.py:3: FutureWarning:     You are passing non-geometry data to the GeoSeries constructor. Currently,\n",
      "    it falls back to returning a pandas Series. But in the future, we will start\n",
      "    to raise a TypeError instead.\n",
      "  This is separate from the ipykernel package so we can avoid doing imports until\n",
      "C:\\Users\\sid\\anaconda3\\envs\\project_covid19\\lib\\site-packages\\ipykernel_launcher.py:4: FutureWarning:     You are passing non-geometry data to the GeoSeries constructor. Currently,\n",
      "    it falls back to returning a pandas Series. But in the future, we will start\n",
      "    to raise a TypeError instead.\n",
      "  after removing the cwd from sys.path.\n",
      "C:\\Users\\sid\\anaconda3\\envs\\project_covid19\\lib\\site-packages\\ipykernel_launcher.py:5: FutureWarning:     You are passing non-geometry data to the GeoSeries constructor. Currently,\n",
      "    it falls back to returning a pandas Series. But in the future, we will start\n",
      "    to raise a TypeError instead.\n",
      "  \"\"\"\n"
     ]
    }
   ],
   "source": [
    "\n",
    "# Sample Data\n",
    "requests_df = gpd.GeoDataFrame()\n",
    "requests_df = requests_df.append(gpd.GeoSeries({'name':'Ajay','support_type':'Emergency','address':'Safina Plaza, Bangalore','Contact Detail':'9582148040','Details':'Need insulin','Lat':'12.9798758','Lon':'77.6048257'}),ignore_index=True)\n",
    "requests_df = requests_df.append(gpd.GeoSeries({'name':'Suresh','support_type':'Urgent','address':'Diamond District','Contact Detail':'9582148040','Details':'Drinking water not available as no water supply','Lat':'12.9593548','Lon':'77.6412253'}),ignore_index=True)\n",
    "requests_df = requests_df.append(gpd.GeoSeries({'name':'Ramesh','support_type':'Others','address':'Jayanagar 5th Block','Contact Detail':'9582148040','Details':'Need to purchase vegetables','Lat':'12.9202314','Lon':'77.5808573'}),ignore_index=True)\n",
    "requests_df['Lat']=requests_df['Lat'].astype(float)\n",
    "requests_df['Lon']=requests_df['Lon'].astype(float)\n",
    "#input_data['radius']=input_data['Transportation'].map(dist_mat)\n",
    "requests_df['radius']=0.5\n",
    "\n",
    "geometry = requests_df.apply(lambda x: Point(x['Lon'],x['Lat']).buffer(buffer_radius*x.radius),axis=1)\n",
    "#requests_df = requests_df.drop(['Lon', 'Lat'], axis=1)\n",
    "crs = {'init': 'epsg:4326'}\n",
    "r_df = gpd.GeoDataFrame(requests_df, crs=crs, geometry=geometry)"
   ]
  },
  {
   "cell_type": "code",
   "execution_count": 42,
   "metadata": {},
   "outputs": [
    {
     "data": {
      "text/html": [
       "<div>\n",
       "<style scoped>\n",
       "    .dataframe tbody tr th:only-of-type {\n",
       "        vertical-align: middle;\n",
       "    }\n",
       "\n",
       "    .dataframe tbody tr th {\n",
       "        vertical-align: top;\n",
       "    }\n",
       "\n",
       "    .dataframe thead th {\n",
       "        text-align: right;\n",
       "    }\n",
       "</style>\n",
       "<table border=\"1\" class=\"dataframe\">\n",
       "  <thead>\n",
       "    <tr style=\"text-align: right;\">\n",
       "      <th></th>\n",
       "      <th>Contact Detail</th>\n",
       "      <th>Details</th>\n",
       "      <th>Lat</th>\n",
       "      <th>Lon</th>\n",
       "      <th>address</th>\n",
       "      <th>name</th>\n",
       "      <th>support_type</th>\n",
       "      <th>radius</th>\n",
       "      <th>geometry</th>\n",
       "    </tr>\n",
       "  </thead>\n",
       "  <tbody>\n",
       "    <tr>\n",
       "      <th>0</th>\n",
       "      <td>9582148040</td>\n",
       "      <td>Need insulin</td>\n",
       "      <td>12.979876</td>\n",
       "      <td>77.604826</td>\n",
       "      <td>Safina Plaza, Bangalore</td>\n",
       "      <td>Ajay</td>\n",
       "      <td>Emergency</td>\n",
       "      <td>0.5</td>\n",
       "      <td>POLYGON ((77.60827 12.97988, 77.60825 12.97954...</td>\n",
       "    </tr>\n",
       "    <tr>\n",
       "      <th>1</th>\n",
       "      <td>9582148040</td>\n",
       "      <td>Drinking water not available as no water supply</td>\n",
       "      <td>12.959355</td>\n",
       "      <td>77.641225</td>\n",
       "      <td>Diamond District</td>\n",
       "      <td>Suresh</td>\n",
       "      <td>Urgent</td>\n",
       "      <td>0.5</td>\n",
       "      <td>POLYGON ((77.64467 12.95935, 77.64465 12.95902...</td>\n",
       "    </tr>\n",
       "    <tr>\n",
       "      <th>2</th>\n",
       "      <td>9582148040</td>\n",
       "      <td>Need to purchase vegetables</td>\n",
       "      <td>12.920231</td>\n",
       "      <td>77.580857</td>\n",
       "      <td>Jayanagar 5th Block</td>\n",
       "      <td>Ramesh</td>\n",
       "      <td>Others</td>\n",
       "      <td>0.5</td>\n",
       "      <td>POLYGON ((77.58430 12.92023, 77.58428 12.91989...</td>\n",
       "    </tr>\n",
       "  </tbody>\n",
       "</table>\n",
       "</div>"
      ],
      "text/plain": [
       "  Contact Detail                                          Details        Lat  \\\n",
       "0     9582148040                                     Need insulin  12.979876   \n",
       "1     9582148040  Drinking water not available as no water supply  12.959355   \n",
       "2     9582148040                      Need to purchase vegetables  12.920231   \n",
       "\n",
       "         Lon                  address    name support_type  radius  \\\n",
       "0  77.604826  Safina Plaza, Bangalore    Ajay    Emergency     0.5   \n",
       "1  77.641225         Diamond District  Suresh       Urgent     0.5   \n",
       "2  77.580857      Jayanagar 5th Block  Ramesh       Others     0.5   \n",
       "\n",
       "                                            geometry  \n",
       "0  POLYGON ((77.60827 12.97988, 77.60825 12.97954...  \n",
       "1  POLYGON ((77.64467 12.95935, 77.64465 12.95902...  \n",
       "2  POLYGON ((77.58430 12.92023, 77.58428 12.91989...  "
      ]
     },
     "execution_count": 42,
     "metadata": {},
     "output_type": "execute_result"
    }
   ],
   "source": [
    "requests_df"
   ]
  },
  {
   "cell_type": "code",
   "execution_count": 38,
   "metadata": {},
   "outputs": [],
   "source": [
    "# Accept entries of the available volunteers via google doc / form"
   ]
  },
  {
   "cell_type": "code",
   "execution_count": 39,
   "metadata": {},
   "outputs": [],
   "source": [
    "# Plot these on a kepler graph with 1KM radius for each available volunteer\n",
    "import keplergl"
   ]
  },
  {
   "cell_type": "code",
   "execution_count": 47,
   "metadata": {},
   "outputs": [
    {
     "name": "stdout",
     "output_type": "stream",
     "text": [
      "User Guide: https://github.com/keplergl/kepler.gl/blob/master/docs/keplergl-jupyter/user-guide.md\n"
     ]
    }
   ],
   "source": [
    "with open('map_config_1.py','r') as f:\n",
    "    live_config = f.read()\n",
    "    exec(live_config)\n",
    "\n",
    "map_1 = keplergl.KeplerGl(height=800,data={'volunteer_data':v_df,'requests_data':r_df})\n",
    "map_1.config=live_config"
   ]
  },
  {
   "cell_type": "code",
   "execution_count": 48,
   "metadata": {
    "scrolled": false
   },
   "outputs": [
    {
     "data": {
      "application/vnd.jupyter.widget-view+json": {
       "model_id": "dc628243f611491abefb10d575e765c1",
       "version_major": 2,
       "version_minor": 0
      },
      "text/plain": [
       "KeplerGl(config={'version': 'v1', 'config': {'visState': {'filters': [], 'layers': [{'id': '6ladbtc', 'type': …"
      ]
     },
     "metadata": {},
     "output_type": "display_data"
    }
   ],
   "source": [
    "map_1"
   ]
  },
  {
   "cell_type": "code",
   "execution_count": 46,
   "metadata": {},
   "outputs": [],
   "source": [
    "# with open('map_config_1.py', 'w') as f:\n",
    "#     f.write('live_config = {}'.format(map_1.config))\n",
    "\n"
   ]
  },
  {
   "cell_type": "code",
   "execution_count": 49,
   "metadata": {},
   "outputs": [
    {
     "name": "stdout",
     "output_type": "stream",
     "text": [
      "Map saved to output/test.html!\n"
     ]
    }
   ],
   "source": [
    "map_1.save_to_html(file_name='output/test.html')"
   ]
  },
  {
   "cell_type": "code",
   "execution_count": null,
   "metadata": {},
   "outputs": [],
   "source": []
  }
 ],
 "metadata": {
  "kernelspec": {
   "display_name": "Python 3",
   "language": "python",
   "name": "python3"
  },
  "language_info": {
   "codemirror_mode": {
    "name": "ipython",
    "version": 3
   },
   "file_extension": ".py",
   "mimetype": "text/x-python",
   "name": "python",
   "nbconvert_exporter": "python",
   "pygments_lexer": "ipython3",
   "version": "3.7.6"
  }
 },
 "nbformat": 4,
 "nbformat_minor": 4
}
